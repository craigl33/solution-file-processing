{
 "cells": [
  {
   "cell_type": "code",
   "execution_count": 1,
   "metadata": {},
   "outputs": [
    {
     "name": "stderr",
     "output_type": "stream",
     "text": [
      "[13:42:41 00:00] I:117:__init__ - Logging to C:\\Users\\hart_c\\showcase\\solution-file-processing\\logs\\20240430_134241-CHN.log.\n",
      "[13:42:42 00:00] I:149:__init__ - Initialized SolutionFilesConfig for config_archive/china/CHN.toml.\n"
     ]
    }
   ],
   "source": [
    "import solution_file_processing as sfp\n",
    "import os\n",
    "import numpy as np\n",
    "import pandas as pd\n",
    "from dask import dataframe as dd\n",
    "\n",
    "from solution_file_processing.utils.utils import catch_errors\n",
    "from solution_file_processing.utils.write_excel import write_xlsx_column, write_xlsx_stack, STACK_PALETTE, IEA_PALETTE_16, IEA_PALETTE_PLUS, EXTENDED_PALETTE\n",
    "from solution_file_processing.constants import VRE_TECHS, PRETTY_MODEL_NAMES\n",
    "from solution_file_processing.timeseries import create_output_11 as create_ts_output_11\n",
    "from solution_file_processing.timeseries import create_output_4 as create_timeseries_output_4\n",
    "from solution_file_processing import log\n",
    "from solution_file_processing.plots import _get_plot_1_variables\n",
    "\n",
    "# Initialize config with toml file\n",
    "c = sfp.SolutionFilesConfig('config_archive/china/CHN.toml')\n",
    "\n",
    "from solution_file_processing.plots import create_plot_1a"
   ]
  },
  {
   "cell_type": "code",
   "execution_count": 2,
   "metadata": {},
   "outputs": [
    {
     "name": "stderr",
     "output_type": "stream",
     "text": [
      "[13:42:42 00:00] I:47:_drive_cache_wrapper - Loading from objects cache: node_yr_df.parquet (pd.DataFrame).\n"
     ]
    }
   ],
   "source": [
    "# would be good to make palettes etc based on the regions for consistency purposes\n",
    "reg_ids = list(set(c.v.load_by_reg.reset_index()[c.GEO_COLS[0]].values))\n",
    "reg_palette = {reg_ids[i]: IEA_PALETTE_16[i] for i in range(len(reg_ids))}\n",
    "\n",
    "# Model palette\n",
    "model_ids = list(set(c.v.load_by_reg.reset_index()['model'].values))\n",
    "model_ids = [m for m in PRETTY_MODEL_NAMES if m in model_ids] + [m for m in model_ids if m not in PRETTY_MODEL_NAMES]\n",
    "# Use extended palette so it can have more than 16 variables\n",
    "model_palette = {model_ids[i]: IEA_PALETTE_16[i] for i in range(len(model_ids))}\n",
    "\n",
    "# Regions and technologies will always be consistent this way. May need to be copied to other parts of the code\n",
    "combined_palette = dict(STACK_PALETTE, **reg_palette, **model_palette)"
   ]
  },
  {
   "cell_type": "code",
   "execution_count": 3,
   "metadata": {},
   "outputs": [
    {
     "name": "stderr",
     "output_type": "stream",
     "text": [
      "[13:42:52 00:10] I:44:_drive_cache_wrapper - Loading from objects cache: node_df.parquet (dd.DataFrame).\n",
      "[13:42:55 00:02] I:47:_drive_cache_wrapper - Loading from objects cache: gen_yr_df.parquet (pd.DataFrame).\n",
      "[13:42:55 00:00] I:44:_drive_cache_wrapper - Loading from objects cache: purch_df.parquet (dd.DataFrame).\n",
      "[13:43:51 00:55] I:44:_drive_cache_wrapper - Loading from objects cache: reg_df.parquet (dd.DataFrame).\n",
      "[13:45:45 01:54] I:44:_drive_cache_wrapper - Loading from objects cache: gen_df.parquet (dd.DataFrame).\n"
     ]
    },
    {
     "data": {
      "text/html": [
       "<div>\n",
       "<style scoped>\n",
       "    .dataframe tbody tr th:only-of-type {\n",
       "        vertical-align: middle;\n",
       "    }\n",
       "\n",
       "    .dataframe tbody tr th {\n",
       "        vertical-align: top;\n",
       "    }\n",
       "\n",
       "    .dataframe thead th {\n",
       "        text-align: right;\n",
       "    }\n",
       "</style>\n",
       "<table border=\"1\" class=\"dataframe\">\n",
       "  <thead>\n",
       "    <tr style=\"text-align: right;\">\n",
       "      <th></th>\n",
       "      <th></th>\n",
       "      <th>value</th>\n",
       "    </tr>\n",
       "    <tr>\n",
       "      <th>model</th>\n",
       "      <th>timestamp</th>\n",
       "      <th></th>\n",
       "    </tr>\n",
       "  </thead>\n",
       "  <tbody>\n",
       "    <tr>\n",
       "      <th rowspan=\"5\" valign=\"top\">01_China_2022_nMUT</th>\n",
       "      <th>2035-01-01 00:00:00</th>\n",
       "      <td>715021.850421</td>\n",
       "    </tr>\n",
       "    <tr>\n",
       "      <th>2035-01-01 01:00:00</th>\n",
       "      <td>772259.749907</td>\n",
       "    </tr>\n",
       "    <tr>\n",
       "      <th>2035-01-01 02:00:00</th>\n",
       "      <td>795741.826189</td>\n",
       "    </tr>\n",
       "    <tr>\n",
       "      <th>2035-01-01 03:00:00</th>\n",
       "      <td>812718.786844</td>\n",
       "    </tr>\n",
       "    <tr>\n",
       "      <th>2035-01-01 04:00:00</th>\n",
       "      <td>804504.000265</td>\n",
       "    </tr>\n",
       "    <tr>\n",
       "      <th>...</th>\n",
       "      <th>...</th>\n",
       "      <td>...</td>\n",
       "    </tr>\n",
       "    <tr>\n",
       "      <th rowspan=\"5\" valign=\"top\">03_China_STEPS_2030_nMUT</th>\n",
       "      <th>2035-12-31 19:00:00</th>\n",
       "      <td>811271.724785</td>\n",
       "    </tr>\n",
       "    <tr>\n",
       "      <th>2035-12-31 20:00:00</th>\n",
       "      <td>791212.701537</td>\n",
       "    </tr>\n",
       "    <tr>\n",
       "      <th>2035-12-31 21:00:00</th>\n",
       "      <td>777547.389272</td>\n",
       "    </tr>\n",
       "    <tr>\n",
       "      <th>2035-12-31 22:00:00</th>\n",
       "      <td>865115.432866</td>\n",
       "    </tr>\n",
       "    <tr>\n",
       "      <th>2035-12-31 23:00:00</th>\n",
       "      <td>958826.230275</td>\n",
       "    </tr>\n",
       "  </tbody>\n",
       "</table>\n",
       "<p>26280 rows × 1 columns</p>\n",
       "</div>"
      ],
      "text/plain": [
       "                                                      value\n",
       "model                    timestamp                         \n",
       "01_China_2022_nMUT       2035-01-01 00:00:00  715021.850421\n",
       "                         2035-01-01 01:00:00  772259.749907\n",
       "                         2035-01-01 02:00:00  795741.826189\n",
       "                         2035-01-01 03:00:00  812718.786844\n",
       "                         2035-01-01 04:00:00  804504.000265\n",
       "...                                                     ...\n",
       "03_China_STEPS_2030_nMUT 2035-12-31 19:00:00  811271.724785\n",
       "                         2035-12-31 20:00:00  791212.701537\n",
       "                         2035-12-31 21:00:00  777547.389272\n",
       "                         2035-12-31 22:00:00  865115.432866\n",
       "                         2035-12-31 23:00:00  958826.230275\n",
       "\n",
       "[26280 rows x 1 columns]"
      ]
     },
     "execution_count": 3,
     "metadata": {},
     "output_type": "execute_result"
    }
   ],
   "source": [
    "c.v.net_load_orig_ts"
   ]
  },
  {
   "cell_type": "code",
   "execution_count": null,
   "metadata": {},
   "outputs": [],
   "source": []
  }
 ],
 "metadata": {
  "kernelspec": {
   "display_name": "solution-file-processing",
   "language": "python",
   "name": "python3"
  },
  "language_info": {
   "codemirror_mode": {
    "name": "ipython",
    "version": 3
   },
   "file_extension": ".py",
   "mimetype": "text/x-python",
   "name": "python",
   "nbconvert_exporter": "python",
   "pygments_lexer": "ipython3",
   "version": "3.11.5"
  }
 },
 "nbformat": 4,
 "nbformat_minor": 2
}
