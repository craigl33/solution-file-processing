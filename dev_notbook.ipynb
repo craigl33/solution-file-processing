{
 "cells": [
  {
   "cell_type": "code",
   "execution_count": 1,
   "metadata": {},
   "outputs": [
    {
     "name": "stderr",
     "output_type": "stream",
     "text": [
      "[10:07:12 00:00] I:119:__init__ - Logging to C:\\Users\\hart_c\\showcase\\solution-file-processing\\logs\\20240801_100712-UKR.log.\n",
      "[10:07:13 00:00] I:156:__init__ - Initialized SolutionFilesConfig for config_files/ukraine/UKR.toml.\n"
     ]
    }
   ],
   "source": [
    "import solution_file_processing as sfp\n",
    "import os\n",
    "import numpy as np\n",
    "import pandas as pd\n",
    "from dask import dataframe as dd\n",
    "\n",
    "from solution_file_processing.utils.utils import catch_errors\n",
    "from solution_file_processing.utils.write_excel import write_xlsx_column, write_xlsx_stack, STACK_PALETTE, IEA_PALETTE_16, IEA_PALETTE_PLUS, EXTENDED_PALETTE\n",
    "from solution_file_processing.constants import VRE_TECHS, PRETTY_MODEL_NAMES\n",
    "from solution_file_processing.timeseries import create_output_11 as create_ts_output_11\n",
    "from solution_file_processing.timeseries import create_output_4 as create_timeseries_output_4\n",
    "from solution_file_processing import log\n",
    "from solution_file_processing.plots import _get_plot_1_variables\n",
    "\n",
    "# Initialize confi||g with toml file\n",
    "c = sfp.SolutionFilesConfig('config_files/ukraine/UKR.toml')\n",
    "\n",
    "# c = sfp.SolutionFilesConfig('config_files/thailand/THA.toml')\n",
    "ix = pd.IndexSlice  \n",
    "\n",
    "from solution_file_processing.plots import create_plot_1a, create_plot_2b_ref_plots, create_plot_2, create_plot_10_ts_by_model\n",
    "from solution_file_processing.plots import create_plot_6_ldc, create_plot_7_co2_savings, create_plot_8_services, create_plot_9_av_cap"
   ]
  },
  {
   "cell_type": "code",
   "execution_count": 2,
   "metadata": {},
   "outputs": [
    {
     "name": "stderr",
     "output_type": "stream",
     "text": [
      "[10:07:13 00:00] I:50:_drive_cache_wrapper - Computing variables: use_reg_daily_ts.\n",
      "[10:07:13 00:00] I:44:_drive_cache_wrapper - Loading from objects cache: reg_df.parquet (dd.DataFrame).\n",
      "[10:07:17 00:04] I:57:_drive_cache_wrapper - Saved to variables cache: use_reg_daily_ts.parquet.\n"
     ]
    },
    {
     "data": {
      "text/html": [
       "<div>\n",
       "<style scoped>\n",
       "    .dataframe tbody tr th:only-of-type {\n",
       "        vertical-align: middle;\n",
       "    }\n",
       "\n",
       "    .dataframe tbody tr th {\n",
       "        vertical-align: top;\n",
       "    }\n",
       "\n",
       "    .dataframe thead th {\n",
       "        text-align: right;\n",
       "    }\n",
       "</style>\n",
       "<table border=\"1\" class=\"dataframe\">\n",
       "  <thead>\n",
       "    <tr style=\"text-align: right;\">\n",
       "      <th></th>\n",
       "      <th></th>\n",
       "      <th></th>\n",
       "      <th></th>\n",
       "      <th>value</th>\n",
       "    </tr>\n",
       "    <tr>\n",
       "      <th>model</th>\n",
       "      <th>Region</th>\n",
       "      <th>Subregion</th>\n",
       "      <th>timestamp</th>\n",
       "      <th></th>\n",
       "    </tr>\n",
       "  </thead>\n",
       "  <tbody>\n",
       "    <tr>\n",
       "      <th rowspan=\"5\" valign=\"top\">2025-BAU</th>\n",
       "      <th rowspan=\"5\" valign=\"top\">CR</th>\n",
       "      <th rowspan=\"5\" valign=\"top\">CR</th>\n",
       "      <th>2030-01-01</th>\n",
       "      <td>0.000000</td>\n",
       "    </tr>\n",
       "    <tr>\n",
       "      <th>2030-01-02</th>\n",
       "      <td>146.714779</td>\n",
       "    </tr>\n",
       "    <tr>\n",
       "      <th>2030-01-03</th>\n",
       "      <td>895.465017</td>\n",
       "    </tr>\n",
       "    <tr>\n",
       "      <th>2030-01-04</th>\n",
       "      <td>14182.129892</td>\n",
       "    </tr>\n",
       "    <tr>\n",
       "      <th>2030-01-05</th>\n",
       "      <td>11727.337526</td>\n",
       "    </tr>\n",
       "    <tr>\n",
       "      <th>...</th>\n",
       "      <th>...</th>\n",
       "      <th>...</th>\n",
       "      <th>...</th>\n",
       "      <td>...</td>\n",
       "    </tr>\n",
       "    <tr>\n",
       "      <th rowspan=\"5\" valign=\"top\">2030-BR_cPN_eSG_nBO</th>\n",
       "      <th rowspan=\"5\" valign=\"top\">WR</th>\n",
       "      <th rowspan=\"5\" valign=\"top\">WR</th>\n",
       "      <th>2030-12-27</th>\n",
       "      <td>0.000000</td>\n",
       "    </tr>\n",
       "    <tr>\n",
       "      <th>2030-12-28</th>\n",
       "      <td>0.000000</td>\n",
       "    </tr>\n",
       "    <tr>\n",
       "      <th>2030-12-29</th>\n",
       "      <td>0.000000</td>\n",
       "    </tr>\n",
       "    <tr>\n",
       "      <th>2030-12-30</th>\n",
       "      <td>0.000000</td>\n",
       "    </tr>\n",
       "    <tr>\n",
       "      <th>2030-12-31</th>\n",
       "      <td>0.000000</td>\n",
       "    </tr>\n",
       "  </tbody>\n",
       "</table>\n",
       "<p>17885 rows × 1 columns</p>\n",
       "</div>"
      ],
      "text/plain": [
       "                                                        value\n",
       "model               Region Subregion timestamp               \n",
       "2025-BAU            CR     CR        2030-01-01      0.000000\n",
       "                                     2030-01-02    146.714779\n",
       "                                     2030-01-03    895.465017\n",
       "                                     2030-01-04  14182.129892\n",
       "                                     2030-01-05  11727.337526\n",
       "...                                                       ...\n",
       "2030-BR_cPN_eSG_nBO WR     WR        2030-12-27      0.000000\n",
       "                                     2030-12-28      0.000000\n",
       "                                     2030-12-29      0.000000\n",
       "                                     2030-12-30      0.000000\n",
       "                                     2030-12-31      0.000000\n",
       "\n",
       "[17885 rows x 1 columns]"
      ]
     },
     "execution_count": 2,
     "metadata": {},
     "output_type": "execute_result"
    }
   ],
   "source": [
    "c.v.use_reg_daily_ts"
   ]
  },
  {
   "cell_type": "code",
   "execution_count": null,
   "metadata": {},
   "outputs": [],
   "source": []
  }
 ],
 "metadata": {
  "kernelspec": {
   "display_name": "solution-file-processing",
   "language": "python",
   "name": "python3"
  },
  "language_info": {
   "codemirror_mode": {
    "name": "ipython",
    "version": 3
   },
   "file_extension": ".py",
   "mimetype": "text/x-python",
   "name": "python",
   "nbconvert_exporter": "python",
   "pygments_lexer": "ipython3",
   "version": "3.11.5"
  }
 },
 "nbformat": 4,
 "nbformat_minor": 2
}
