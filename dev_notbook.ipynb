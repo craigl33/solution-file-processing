{
 "cells": [
  {
   "cell_type": "code",
   "execution_count": null,
   "metadata": {},
   "outputs": [],
   "source": [
    "# import solution_file_processing as sfp\n",
    "# import os\n",
    "# import numpy as np\n",
    "# import pandas as pd\n",
    "# from dask import dataframe as dd\n",
    "\n",
    "# from solution_file_processing.utils.utils import catch_errors\n",
    "# from solution_file_processing.utils.write_excel import write_xlsx_column, write_xlsx_stack, STACK_PALETTE, IEA_PALETTE_16, IEA_PALETTE_PLUS, EXTENDED_PALETTE\n",
    "# from solution_file_processing.constants import VRE_TECHS, PRETTY_MODEL_NAMES\n",
    "# from solution_file_processing.timeseries import create_output_11 as create_ts_output_11\n",
    "# from solution_file_processing.timeseries import create_output_4 as create_timeseries_output_4\n",
    "# from solution_file_processing import log\n",
    "# from solution_file_processing.plots import _get_plot_1_variables\n",
    "\n",
    "# # Initialize confi||g with toml file\n",
    "# c = sfp.SolutionFilesConfig('config_files/ukraine/UKR.toml')\n",
    "\n",
    "# # c = sfp.SolutionFilesConfig('config_files/thailand/THA.toml')\n",
    "# from solution_file_processing.plots import create_plot_1a, create_plot_2b_ref_plots, create_plot_2_summary\n",
    "# from solution_file_processing.plots import create_plot_6_ldc_and_line_plots, create_plot_7_co2_savings, create_plot_8_services, create_plot_9_av_cap\n",
    "# from solution_file_processing.plots import create_plot_1a_overall_models"
   ]
  },
  {
   "cell_type": "code",
   "execution_count": null,
   "metadata": {},
   "outputs": [],
   "source": [
    "# price_all_regs_ts = c.o.reg_raw_df.compute()\n",
    "# x = price_all_regs_ts.groupby(['model','name','timestamp']).agg({'value':'sum'})"
   ]
  },
  {
   "cell_type": "code",
   "execution_count": null,
   "metadata": {},
   "outputs": [],
   "source": [
    "from juliacall import Main as jl"
   ]
  },
  {
   "cell_type": "code",
   "execution_count": 1,
   "metadata": {},
   "outputs": [],
   "source": [
    "import juliapkg"
   ]
  },
  {
   "cell_type": "code",
   "execution_count": 2,
   "metadata": {},
   "outputs": [
    {
     "data": {
      "text/plain": [
       "'C:\\\\Users\\\\hart_c\\\\AppData\\\\Local\\\\Programs\\\\Julia-1.11.2\\\\bin\\\\julia.exe'"
      ]
     },
     "execution_count": 2,
     "metadata": {},
     "output_type": "execute_result"
    }
   ],
   "source": [
    "juliapkg."
   ]
  },
  {
   "cell_type": "code",
   "execution_count": null,
   "metadata": {},
   "outputs": [],
   "source": [
    "export_cost_monthly = c.v.export_cost_ts.groupby([pd.Grouper(level='timestamp', freq='M'), 'model']).sum().value.unstack('model')"
   ]
  },
  {
   "cell_type": "code",
   "execution_count": null,
   "metadata": {},
   "outputs": [],
   "source": [
    "export_cost_monthly.columns"
   ]
  },
  {
   "cell_type": "code",
   "execution_count": null,
   "metadata": {},
   "outputs": [],
   "source": [
    "export_monthly = c.v.exports_ts.where(c.v.exports_ts.value > 0).groupby([pd.Grouper(level='timestamp', freq='M'), 'model']).sum().value.unstack('model')\n",
    "import_monthly = -c.v.exports_ts.where(c.v.exports_ts.value < 0).groupby([pd.Grouper(level='timestamp', freq='M'), 'model']).sum().value.unstack('model')\n",
    "net_export_monthly = c.v.exports_ts.groupby([pd.Grouper(level='timestamp', freq='M'), 'model']).sum().value.unstack('model')"
   ]
  },
  {
   "cell_type": "code",
   "execution_count": null,
   "metadata": {},
   "outputs": [],
   "source": [
    "c.v.exports_ts.groupby('model').sum()"
   ]
  },
  {
   "cell_type": "code",
   "execution_count": null,
   "metadata": {},
   "outputs": [],
   "source": [
    "c.p.import_cost[0].to_csv('y:/Modelling/Ukraine/2023_UKR_ST_Security/import_cost1.csv')"
   ]
  },
  {
   "cell_type": "code",
   "execution_count": null,
   "metadata": {},
   "outputs": [],
   "source": [
    "from solution-file-processing.utils.utils import _prettify_model_name"
   ]
  },
  {
   "cell_type": "code",
   "execution_count": null,
   "metadata": {},
   "outputs": [],
   "source": [
    "c.v.exports_ts.value"
   ]
  },
  {
   "cell_type": "code",
   "execution_count": null,
   "metadata": {},
   "outputs": [],
   "source": [
    "c.p.import_cost"
   ]
  },
  {
   "cell_type": "code",
   "execution_count": null,
   "metadata": {},
   "outputs": [],
   "source": [
    "price_by_reg_ts = c.o.reg_df[c.o.reg_df.property == 'Price'].groupby(['model', 'timestamp', c.GEO_COLS[0]]).agg({'value':'sum'}).compute()\n",
    "price_by_reg_ts = price_by_reg_ts.unstack(c.GEO_COLS[0]).mean(axis=1)\n",
    "export_cost_ts = c.v.exports_ts.value * price_by_reg_ts\n",
    "export_cost_ts.groupby('model').sum()"
   ]
  },
  {
   "cell_type": "code",
   "execution_count": null,
   "metadata": {},
   "outputs": [],
   "source": [
    "df_costs = c.v.export_cost_ts[c.v.export_cost_ts.value < 0].groupby('model').sum()/1e6\n",
    "df_revenues = c.v.export_cost_ts[c.v.export_cost_ts.value > 0].groupby('model').sum()/1e6"
   ]
  },
  {
   "cell_type": "code",
   "execution_count": null,
   "metadata": {},
   "outputs": [],
   "source": [
    "\n",
    "df = pd.concat([df_costs.value.rename('Costs'), df_revenues.value.rename('Revenues')], axis=1)\n",
    "df"
   ]
  },
  {
   "cell_type": "code",
   "execution_count": null,
   "metadata": {},
   "outputs": [],
   "source": [
    "export_cost_ts = c.v.exports_ts.value * price_by_reg_ts"
   ]
  },
  {
   "cell_type": "code",
   "execution_count": null,
   "metadata": {},
   "outputs": [],
   "source": [
    "imp_exp_cost = c.v.exports_ts * price_by_reg"
   ]
  },
  {
   "cell_type": "code",
   "execution_count": null,
   "metadata": {},
   "outputs": [],
   "source": [
    "c.o.reg_df[c.o.reg_df.property == 'Price'].compute()"
   ]
  },
  {
   "cell_type": "code",
   "execution_count": null,
   "metadata": {},
   "outputs": [],
   "source": [
    "price_by_reg = price_by_reg.unstack(c.GEO_COLS[0])\n",
    "price_by_reg = price_by_reg.mean(axis=1)"
   ]
  }
 ],
 "metadata": {
  "kernelspec": {
   "display_name": "solution-file-processing",
   "language": "python",
   "name": "python3"
  },
  "language_info": {
   "codemirror_mode": {
    "name": "ipython",
    "version": 3
   },
   "file_extension": ".py",
   "mimetype": "text/x-python",
   "name": "python",
   "nbconvert_exporter": "python",
   "pygments_lexer": "ipython3",
   "version": "3.11.5"
  }
 },
 "nbformat": 4,
 "nbformat_minor": 2
}
