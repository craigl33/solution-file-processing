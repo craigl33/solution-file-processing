{
 "cells": [
  {
   "cell_type": "code",
   "execution_count": 1,
   "metadata": {},
   "outputs": [
    {
     "name": "stderr",
     "output_type": "stream",
     "text": [
      "[11:25:28 00:00] I:119:__init__ - Logging to C:\\Users\\hart_c\\showcase\\solution-file-processing\\logs\\20240911_112528-UKR.log.\n",
      "[11:25:29 00:00] I:157:__init__ - Initialized SolutionFilesConfig for config_files/ukraine/UKR.toml.\n"
     ]
    }
   ],
   "source": [
    "import solution_file_processing as sfp\n",
    "import os\n",
    "import numpy as np\n",
    "import pandas as pd\n",
    "from dask import dataframe as dd\n",
    "\n",
    "from solution_file_processing.utils.utils import catch_errors\n",
    "from solution_file_processing.utils.write_excel import write_xlsx_column, write_xlsx_stack, STACK_PALETTE, IEA_PALETTE_16, IEA_PALETTE_PLUS, EXTENDED_PALETTE\n",
    "from solution_file_processing.constants import VRE_TECHS, PRETTY_MODEL_NAMES\n",
    "from solution_file_processing.timeseries import create_output_11 as create_ts_output_11\n",
    "from solution_file_processing.timeseries import create_output_4 as create_timeseries_output_4\n",
    "from solution_file_processing import log\n",
    "from solution_file_processing.plots import _get_plot_1_variables\n",
    "\n",
    "# Initialize confi||g with toml file\n",
    "c = sfp.SolutionFilesConfig('config_files/ukraine/UKR.toml')\n",
    "\n",
    "# c = sfp.SolutionFilesConfig('config_files/thailand/THA.toml')\n",
    "ix = pd.IndexSlice  \n",
    "\n",
    "from solution_file_processing.plots import create_plot_1a, create_plot_2b_ref_plots, create_plot_2_summary, create_plot_10_ts_by_model\n",
    "from solution_file_processing.plots import create_plot_6_ldc_and_line_plots, create_plot_7_co2_savings, create_plot_8_services, create_plot_9_av_cap"
   ]
  },
  {
   "cell_type": "code",
   "execution_count": 6,
   "metadata": {},
   "outputs": [],
   "source": [
    "### Check if there are any files to convert in folder and all subfolders\n",
    "soln_zip_files = [Path(os.path.join(root, name))\n",
    "        for root, dirs, files in os.walk(self.c.DIR_04_SOLUTION_FILES)\n",
    "        for name in files\n",
    "            if name.endswith((\".zip\", \".ZIP\"))]\n",
    "\n",
    "root_path = Path(self.c.DIR_04_SOLUTION_FILES)\n",
    "### Move all files to root folder\n",
    "for f in soln_zip_files:\n",
    "    if f.parent != root_path:\n",
    "        # Move the file to the correct directory\n",
    "        shutil.move(f, root_path / f.name)\n",
    "        if len(os.listdir(f.parent)) == 0:\n",
    "            os.rmdir(f.parent)"
   ]
  },
  {
   "cell_type": "code",
   "execution_count": 38,
   "metadata": {},
   "outputs": [
    {
     "data": {
      "text/plain": [
       "{'grey5': '#f2f2f2',\n",
       " 'grey10': '#e6e6e6',\n",
       " 'pl': '#b187ef',\n",
       " 'bl': '#49d3ff',\n",
       " 'tl': '#00e0e0',\n",
       " 'gl': '#68f394',\n",
       " 'yl': '#fff45a',\n",
       " 'ol': '#ffb743',\n",
       " 'rl': '#ff684d',\n",
       " 'grey40': '#949494',\n",
       " 'grey50': '#6f6f6f',\n",
       " 'p': '#af6ab1',\n",
       " 'b': '#3e7ad3',\n",
       " 't': '#00ada1',\n",
       " 'g': '#1dbe62',\n",
       " 'y': '#fed324',\n",
       " 'o': '#f1a800',\n",
       " 'r': '#e34946',\n",
       " 'grey20': '#afafaf',\n",
       " 'black': '#000000',\n",
       " 'white': '#ffffff',\n",
       " 'iea_b': '#0044ff',\n",
       " 'iea_b50': '#80a2ff',\n",
       " 'brown': '#6E4F00',\n",
       " '0': '#393b79',\n",
       " '1': '#5254a3',\n",
       " '2': '#6b6ecf',\n",
       " '3': '#9c9ede',\n",
       " '4': '#637939',\n",
       " '5': '#8ca252',\n",
       " '6': '#b5cf6b',\n",
       " '7': '#cedb9c',\n",
       " '8': '#8c6d31',\n",
       " '9': '#bd9e39',\n",
       " '10': '#e7ba52',\n",
       " '11': '#e7cb94',\n",
       " '12': '#843c39',\n",
       " '13': '#ad494a',\n",
       " '14': '#d6616b',\n",
       " '15': '#e7969c',\n",
       " '16': '#7b4173',\n",
       " '17': '#a55194',\n",
       " '18': '#ce6dbd',\n",
       " '19': '#de9ed6',\n",
       " '20': '#3182bd',\n",
       " '21': '#6baed6',\n",
       " '22': '#9ecae1',\n",
       " '23': '#c6dbef',\n",
       " '24': '#e6550d',\n",
       " '25': '#fd8d3c',\n",
       " '26': '#fdae6b',\n",
       " '27': '#fdd0a2',\n",
       " '28': '#31a354',\n",
       " '29': '#74c476',\n",
       " '30': '#a1d99b',\n",
       " '31': '#c7e9c0',\n",
       " '32': '#756bb1',\n",
       " '33': '#9e9ac8',\n",
       " '34': '#bcbddc',\n",
       " '35': '#dadaeb',\n",
       " '36': '#636363',\n",
       " '37': '#969696',\n",
       " '38': '#bdbdbd',\n",
       " '39': '#d9d9d9'}"
      ]
     },
     "execution_count": 38,
     "metadata": {},
     "output_type": "execute_result"
    }
   ],
   "source": [
    "IEA_PALETTE_PLUS"
   ]
  },
  {
   "cell_type": "code",
   "execution_count": null,
   "metadata": {},
   "outputs": [],
   "source": [
    "model_path = Path('Y:/Modelling/Ukraine/2023_UKR_ST_Security/')\n",
    "extract_plexos_LT_results(model_path=model_path)"
   ]
  },
  {
   "cell_type": "code",
   "execution_count": null,
   "metadata": {},
   "outputs": [],
   "source": []
  },
  {
   "cell_type": "code",
   "execution_count": null,
   "metadata": {},
   "outputs": [],
   "source": []
  }
 ],
 "metadata": {
  "kernelspec": {
   "display_name": "solution-file-processing",
   "language": "python",
   "name": "python3"
  },
  "language_info": {
   "codemirror_mode": {
    "name": "ipython",
    "version": 3
   },
   "file_extension": ".py",
   "mimetype": "text/x-python",
   "name": "python",
   "nbconvert_exporter": "python",
   "pygments_lexer": "ipython3",
   "version": "3.11.5"
  }
 },
 "nbformat": 4,
 "nbformat_minor": 2
}
