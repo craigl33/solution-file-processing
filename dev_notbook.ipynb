{
 "cells": [
  {
   "cell_type": "code",
   "execution_count": 1,
   "metadata": {},
   "outputs": [
    {
     "name": "stderr",
     "output_type": "stream",
     "text": [
      "[12:05:12 00:00] I:121:__init__ - Logging to C:\\Users\\hart_c\\showcase\\solution-file-processing\\logs\\20241216_120512-UKR.log.\n",
      "[12:05:14 00:01] I:166:__init__ - Initialized SolutionFilesConfig for config_files/ukraine/UKR.toml.\n"
     ]
    }
   ],
   "source": [
    "import solution_file_processing as sfp\n",
    "import os\n",
    "import numpy as np\n",
    "import pandas as pd\n",
    "from dask import dataframe as dd\n",
    "\n",
    "from solution_file_processing.utils.utils import catch_errors\n",
    "from solution_file_processing.utils.write_excel import write_xlsx_column, write_xlsx_stack, STACK_PALETTE, IEA_PALETTE_16, IEA_PALETTE_PLUS, EXTENDED_PALETTE\n",
    "from solution_file_processing.constants import VRE_TECHS, PRETTY_MODEL_NAMES\n",
    "from solution_file_processing.timeseries import create_output_11 as create_ts_output_11\n",
    "from solution_file_processing.timeseries import create_output_4 as create_timeseries_output_4\n",
    "from solution_file_processing import log\n",
    "from solution_file_processing.plots import _get_plot_1_variables\n",
    "\n",
    "# Initialize confi||g with toml file\n",
    "c = sfp.SolutionFilesConfig('config_files/ukraine/UKR.toml')\n",
    "\n",
    "# c = sfp.SolutionFilesConfig('config_files/thailand/THA.toml')\n",
    "from solution_file_processing.plots import create_plot_1a, create_plot_2b_ref_plots, create_plot_2_summary\n",
    "from solution_file_processing.plots import create_plot_6_ldc_and_line_plots, create_plot_7_co2_savings, create_plot_8_services, create_plot_9_av_cap\n",
    "from solution_file_processing.plots import create_plot_1a_overall_models"
   ]
  },
  {
   "cell_type": "code",
   "execution_count": 2,
   "metadata": {},
   "outputs": [],
   "source": [
    "# price_all_regs_ts = c.o.reg_raw_df.compute()\n",
    "# x = price_all_regs_ts.groupby(['model','name','timestamp']).agg({'value':'sum'})"
   ]
  },
  {
   "cell_type": "code",
   "execution_count": 7,
   "metadata": {},
   "outputs": [
    {
     "data": {
      "text/html": [
       "<div>\n",
       "<style scoped>\n",
       "    .dataframe tbody tr th:only-of-type {\n",
       "        vertical-align: middle;\n",
       "    }\n",
       "\n",
       "    .dataframe tbody tr th {\n",
       "        vertical-align: top;\n",
       "    }\n",
       "\n",
       "    .dataframe thead th {\n",
       "        text-align: right;\n",
       "    }\n",
       "</style>\n",
       "<table border=\"1\" class=\"dataframe\">\n",
       "  <thead>\n",
       "    <tr style=\"text-align: right;\">\n",
       "      <th></th>\n",
       "      <th></th>\n",
       "      <th>value</th>\n",
       "    </tr>\n",
       "    <tr>\n",
       "      <th>model</th>\n",
       "      <th>timestamp</th>\n",
       "      <th></th>\n",
       "    </tr>\n",
       "  </thead>\n",
       "  <tbody>\n",
       "    <tr>\n",
       "      <th rowspan=\"5\" valign=\"top\">2021</th>\n",
       "      <th>2030-01-01 00:00:00</th>\n",
       "      <td>-1.421085e-09</td>\n",
       "    </tr>\n",
       "    <tr>\n",
       "      <th>2030-01-01 01:00:00</th>\n",
       "      <td>0.000000e+00</td>\n",
       "    </tr>\n",
       "    <tr>\n",
       "      <th>2030-01-01 02:00:00</th>\n",
       "      <td>0.000000e+00</td>\n",
       "    </tr>\n",
       "    <tr>\n",
       "      <th>2030-01-01 03:00:00</th>\n",
       "      <td>2.842171e-09</td>\n",
       "    </tr>\n",
       "    <tr>\n",
       "      <th>2030-01-01 04:00:00</th>\n",
       "      <td>0.000000e+00</td>\n",
       "    </tr>\n",
       "    <tr>\n",
       "      <th>...</th>\n",
       "      <th>...</th>\n",
       "      <td>...</td>\n",
       "    </tr>\n",
       "    <tr>\n",
       "      <th rowspan=\"5\" valign=\"top\">2030-BR_cPN_eSG</th>\n",
       "      <th>2030-12-31 19:00:00</th>\n",
       "      <td>4.999250e+06</td>\n",
       "    </tr>\n",
       "    <tr>\n",
       "      <th>2030-12-31 20:00:00</th>\n",
       "      <td>4.999250e+06</td>\n",
       "    </tr>\n",
       "    <tr>\n",
       "      <th>2030-12-31 21:00:00</th>\n",
       "      <td>4.999250e+06</td>\n",
       "    </tr>\n",
       "    <tr>\n",
       "      <th>2030-12-31 22:00:00</th>\n",
       "      <td>3.784583e+06</td>\n",
       "    </tr>\n",
       "    <tr>\n",
       "      <th>2030-12-31 23:00:00</th>\n",
       "      <td>3.784583e+06</td>\n",
       "    </tr>\n",
       "  </tbody>\n",
       "</table>\n",
       "<p>87600 rows × 1 columns</p>\n",
       "</div>"
      ],
      "text/plain": [
       "                                            value\n",
       "model           timestamp                        \n",
       "2021            2030-01-01 00:00:00 -1.421085e-09\n",
       "                2030-01-01 01:00:00  0.000000e+00\n",
       "                2030-01-01 02:00:00  0.000000e+00\n",
       "                2030-01-01 03:00:00  2.842171e-09\n",
       "                2030-01-01 04:00:00  0.000000e+00\n",
       "...                                           ...\n",
       "2030-BR_cPN_eSG 2030-12-31 19:00:00  4.999250e+06\n",
       "                2030-12-31 20:00:00  4.999250e+06\n",
       "                2030-12-31 21:00:00  4.999250e+06\n",
       "                2030-12-31 22:00:00  3.784583e+06\n",
       "                2030-12-31 23:00:00  3.784583e+06\n",
       "\n",
       "[87600 rows x 1 columns]"
      ]
     },
     "execution_count": 7,
     "metadata": {},
     "output_type": "execute_result"
    }
   ],
   "source": [
    "c.v.export_cost_ts"
   ]
  },
  {
   "cell_type": "code",
   "execution_count": 13,
   "metadata": {},
   "outputs": [],
   "source": [
    "export_cost_monthly = c.v.export_cost_ts.groupby([pd.Grouper(level='timestamp', freq='M'), 'model']).sum().value.unstack('model')"
   ]
  },
  {
   "cell_type": "code",
   "execution_count": 15,
   "metadata": {},
   "outputs": [
    {
     "data": {
      "text/plain": [
       "Index(['2021', '2024', '2025', '2025_eG', '2025_eSBaG', '2025_eSG',\n",
       "       '2025_eSWBaG', '2025_eSWBaG_Ix', '2025_eSoG', '2030-BR_cPN_eSG'],\n",
       "      dtype='object', name='model')"
      ]
     },
     "execution_count": 15,
     "metadata": {},
     "output_type": "execute_result"
    }
   ],
   "source": [
    "export_cost_monthly.columns"
   ]
  },
  {
   "cell_type": "code",
   "execution_count": 30,
   "metadata": {},
   "outputs": [],
   "source": [
    "export_monthly = c.v.exports_ts.where(c.v.exports_ts.value > 0).groupby([pd.Grouper(level='timestamp', freq='M'), 'model']).sum().value.unstack('model')\n",
    "import_monthly = -c.v.exports_ts.where(c.v.exports_ts.value < 0).groupby([pd.Grouper(level='timestamp', freq='M'), 'model']).sum().value.unstack('model')\n",
    "net_export_monthly = c.v.exports_ts.groupby([pd.Grouper(level='timestamp', freq='M'), 'model']).sum().value.unstack('model')"
   ]
  },
  {
   "cell_type": "code",
   "execution_count": 39,
   "metadata": {},
   "outputs": [
    {
     "data": {
      "text/html": [
       "<div>\n",
       "<style scoped>\n",
       "    .dataframe tbody tr th:only-of-type {\n",
       "        vertical-align: middle;\n",
       "    }\n",
       "\n",
       "    .dataframe tbody tr th {\n",
       "        vertical-align: top;\n",
       "    }\n",
       "\n",
       "    .dataframe thead th {\n",
       "        text-align: right;\n",
       "    }\n",
       "</style>\n",
       "<table border=\"1\" class=\"dataframe\">\n",
       "  <thead>\n",
       "    <tr style=\"text-align: right;\">\n",
       "      <th></th>\n",
       "      <th>value</th>\n",
       "    </tr>\n",
       "    <tr>\n",
       "      <th>model</th>\n",
       "      <th></th>\n",
       "    </tr>\n",
       "  </thead>\n",
       "  <tbody>\n",
       "    <tr>\n",
       "      <th>2021</th>\n",
       "      <td>-1.381295e-11</td>\n",
       "    </tr>\n",
       "    <tr>\n",
       "      <th>2024</th>\n",
       "      <td>-1.449952e+07</td>\n",
       "    </tr>\n",
       "    <tr>\n",
       "      <th>2025</th>\n",
       "      <td>-1.622478e+07</td>\n",
       "    </tr>\n",
       "    <tr>\n",
       "      <th>2025_eG</th>\n",
       "      <td>-1.437512e+07</td>\n",
       "    </tr>\n",
       "    <tr>\n",
       "      <th>2025_eSBaG</th>\n",
       "      <td>-1.326134e+07</td>\n",
       "    </tr>\n",
       "    <tr>\n",
       "      <th>2025_eSG</th>\n",
       "      <td>-1.332416e+07</td>\n",
       "    </tr>\n",
       "    <tr>\n",
       "      <th>2025_eSWBaG</th>\n",
       "      <td>-1.275041e+07</td>\n",
       "    </tr>\n",
       "    <tr>\n",
       "      <th>2025_eSWBaG_Ix</th>\n",
       "      <td>-1.304380e+07</td>\n",
       "    </tr>\n",
       "    <tr>\n",
       "      <th>2025_eSoG</th>\n",
       "      <td>-1.385558e+07</td>\n",
       "    </tr>\n",
       "    <tr>\n",
       "      <th>2030-BR_cPN_eSG</th>\n",
       "      <td>6.491783e+06</td>\n",
       "    </tr>\n",
       "  </tbody>\n",
       "</table>\n",
       "</div>"
      ],
      "text/plain": [
       "                        value\n",
       "model                        \n",
       "2021            -1.381295e-11\n",
       "2024            -1.449952e+07\n",
       "2025            -1.622478e+07\n",
       "2025_eG         -1.437512e+07\n",
       "2025_eSBaG      -1.326134e+07\n",
       "2025_eSG        -1.332416e+07\n",
       "2025_eSWBaG     -1.275041e+07\n",
       "2025_eSWBaG_Ix  -1.304380e+07\n",
       "2025_eSoG       -1.385558e+07\n",
       "2030-BR_cPN_eSG  6.491783e+06"
      ]
     },
     "execution_count": 39,
     "metadata": {},
     "output_type": "execute_result"
    }
   ],
   "source": [
    "c.v.exports_ts.groupby('model').sum()"
   ]
  },
  {
   "cell_type": "code",
   "execution_count": 3,
   "metadata": {},
   "outputs": [
    {
     "name": "stderr",
     "output_type": "stream",
     "text": [
      "[13:41:37 00:00] I:52:_drive_cache_wrapper - Loading from variables cache: exports_ts.parquet (pd.DataFrame).\n",
      "[13:41:37 00:00] I:49:_drive_cache_wrapper - Loading from objects cache: reg_raw_df.parquet (dd.DataFrame).\n"
     ]
    }
   ],
   "source": [
    "c.p.import_cost[0].to_csv('y:/Modelling/Ukraine/2023_UKR_ST_Security/import_cost1.csv')"
   ]
  },
  {
   "cell_type": "code",
   "execution_count": null,
   "metadata": {},
   "outputs": [],
   "source": [
    "from solution-file-processing.utils.utils import _prettify_model_name"
   ]
  },
  {
   "cell_type": "code",
   "execution_count": null,
   "metadata": {},
   "outputs": [],
   "source": [
    "c.v.exports_ts.value"
   ]
  },
  {
   "cell_type": "code",
   "execution_count": null,
   "metadata": {},
   "outputs": [],
   "source": [
    "c.p.import_cost"
   ]
  },
  {
   "cell_type": "code",
   "execution_count": null,
   "metadata": {},
   "outputs": [],
   "source": [
    "price_by_reg_ts = c.o.reg_df[c.o.reg_df.property == 'Price'].groupby(['model', 'timestamp', c.GEO_COLS[0]]).agg({'value':'sum'}).compute()\n",
    "price_by_reg_ts = price_by_reg_ts.unstack(c.GEO_COLS[0]).mean(axis=1)\n",
    "export_cost_ts = c.v.exports_ts.value * price_by_reg_ts\n",
    "export_cost_ts.groupby('model').sum()"
   ]
  },
  {
   "cell_type": "code",
   "execution_count": null,
   "metadata": {},
   "outputs": [],
   "source": [
    "df_costs = c.v.export_cost_ts[c.v.export_cost_ts.value < 0].groupby('model').sum()/1e6\n",
    "df_revenues = c.v.export_cost_ts[c.v.export_cost_ts.value > 0].groupby('model').sum()/1e6"
   ]
  },
  {
   "cell_type": "code",
   "execution_count": null,
   "metadata": {},
   "outputs": [],
   "source": [
    "\n",
    "df = pd.concat([df_costs.value.rename('Costs'), df_revenues.value.rename('Revenues')], axis=1)\n",
    "df"
   ]
  },
  {
   "cell_type": "code",
   "execution_count": null,
   "metadata": {},
   "outputs": [],
   "source": [
    "export_cost_ts = c.v.exports_ts.value * price_by_reg_ts"
   ]
  },
  {
   "cell_type": "code",
   "execution_count": null,
   "metadata": {},
   "outputs": [],
   "source": [
    "imp_exp_cost = c.v.exports_ts * price_by_reg"
   ]
  },
  {
   "cell_type": "code",
   "execution_count": null,
   "metadata": {},
   "outputs": [],
   "source": [
    "c.o.reg_df[c.o.reg_df.property == 'Price'].compute()"
   ]
  },
  {
   "cell_type": "code",
   "execution_count": null,
   "metadata": {},
   "outputs": [],
   "source": [
    "price_by_reg = price_by_reg.unstack(c.GEO_COLS[0])\n",
    "price_by_reg = price_by_reg.mean(axis=1)"
   ]
  }
 ],
 "metadata": {
  "kernelspec": {
   "display_name": "solution-file-processing",
   "language": "python",
   "name": "python3"
  },
  "language_info": {
   "codemirror_mode": {
    "name": "ipython",
    "version": 3
   },
   "file_extension": ".py",
   "mimetype": "text/x-python",
   "name": "python",
   "nbconvert_exporter": "python",
   "pygments_lexer": "ipython3",
   "version": "3.11.5"
  }
 },
 "nbformat": 4,
 "nbformat_minor": 2
}
